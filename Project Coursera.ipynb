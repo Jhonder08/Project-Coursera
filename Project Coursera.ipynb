{
 "cells": [
  {
   "cell_type": "markdown",
   "id": "871a9047-0cd0-4e78-8b49-961c5f20bc3d",
   "metadata": {},
   "source": [
    "<h1>My Jupyter Notebook on IBM Watson Studio<h1/>"
   ]
  },
  {
   "cell_type": "markdown",
   "id": "21a39418-57e2-49c0-b456-d2f0f4111e67",
   "metadata": {},
   "source": [
    "<b>Jhonder<b/>\n",
    "    \n",
    "Actualmente trabajo como analista de Datos en IQVIA, mi objetivo es llegar a ser un Cientifico de Datos."
   ]
  },
  {
   "cell_type": "markdown",
   "id": "5becb905-6ff6-4900-89e4-be40522d902b",
   "metadata": {},
   "source": [
    "<em>Me intereza la ciencia de los datos, porque me gusta saber el porque de las cosas</em>\n",
    "\n",
    "<em>Tambien porque es un todo un mundo que recien se esta conociendo, el valor de los datos cada vez es mayor</em>"
   ]
  },
  {
   "cell_type": "markdown",
   "id": "bd4ffd8f-a51b-4dfc-8b26-4bb227fd603d",
   "metadata": {},
   "source": [
    "<h3>A continuación se muestra un ejercicio de adición</h3>"
   ]
  },
  {
   "cell_type": "code",
   "execution_count": 4,
   "id": "390468f5-9747-40bf-9f69-ea84e483a049",
   "metadata": {
    "tags": []
   },
   "outputs": [
    {
     "data": {
      "text/plain": [
       "15"
      ]
     },
     "execution_count": 4,
     "metadata": {},
     "output_type": "execute_result"
    }
   ],
   "source": [
    "5+6+4"
   ]
  },
  {
   "cell_type": "markdown",
   "id": "0d2fc001-9806-46c6-8501-911499f77823",
   "metadata": {
    "tags": []
   },
   "source": [
    "<ol>\n",
    "    <li>Jupyter Notebook</li>\n",
    "    <li>Watson Studio</li>\n",
    "    <li>Jupyter Lab</li>\n",
    "    <li>Github</li>\n",
    "</ol>\n",
    "<mark>Regla Horizontal</mark>\n",
    "<hr>    \n",
    "<ul>\n",
    "    <li>Obtener los datos</li>\n",
    "    <li>Clasificar los datos</li>\n",
    "    <li>Limpieza de los datos</li>\n",
    "    <li>Procesamiento de los datos</li>\n",
    "</ul>"
   ]
  },
  {
   "cell_type": "code",
   "execution_count": null,
   "id": "068924b3-b6a2-4f3a-88ab-27903b735754",
   "metadata": {
    "tags": []
   },
   "outputs": [],
   "source": []
  },
  {
   "cell_type": "code",
   "execution_count": null,
   "id": "5f902503-26a2-4c67-9332-6df911764849",
   "metadata": {
    "tags": []
   },
   "outputs": [],
   "source": []
  }
 ],
 "metadata": {
  "kernelspec": {
   "display_name": "Python 3 (ipykernel)",
   "language": "python",
   "name": "python3"
  },
  "language_info": {
   "codemirror_mode": {
    "name": "ipython",
    "version": 3
   },
   "file_extension": ".py",
   "mimetype": "text/x-python",
   "name": "python",
   "nbconvert_exporter": "python",
   "pygments_lexer": "ipython3",
   "version": "3.9.12"
  }
 },
 "nbformat": 4,
 "nbformat_minor": 5
}
